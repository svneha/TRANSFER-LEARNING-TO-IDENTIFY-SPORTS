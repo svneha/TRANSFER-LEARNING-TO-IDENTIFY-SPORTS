{
 "cells": [
  {
   "cell_type": "markdown",
   "id": "221152a3",
   "metadata": {},
   "source": [
    "# Transfer Learning"
   ]
  },
  {
   "cell_type": "markdown",
   "id": "7d572322",
   "metadata": {},
   "source": [
    "## VGG 16"
   ]
  },
  {
   "cell_type": "code",
   "execution_count": 1,
   "id": "3e214b2f",
   "metadata": {},
   "outputs": [],
   "source": [
    "# importing necessary libraries"
   ]
  },
  {
   "cell_type": "code",
   "execution_count": 4,
   "id": "90e2587f",
   "metadata": {},
   "outputs": [],
   "source": [
    "from tensorflow.keras.layers import Dense,Flatten,Input\n",
    "from tensorflow.keras.models import  Model\n",
    "from tensorflow.keras.preprocessing import image\n",
    "from tensorflow.keras.preprocessing.image import ImageDataGenerator , load_img\n",
    "import numpy as np"
   ]
  },
  {
   "cell_type": "code",
   "execution_count": 5,
   "id": "b739ae1f",
   "metadata": {},
   "outputs": [
    {
     "data": {
      "text/plain": [
       "'C:\\\\Users\\\\svneh\\\\OneDrive\\\\Desktop\\\\py jup'"
      ]
     },
     "execution_count": 5,
     "metadata": {},
     "output_type": "execute_result"
    }
   ],
   "source": [
    "pwd"
   ]
  },
  {
   "cell_type": "code",
   "execution_count": 9,
   "id": "d5d8cd3f",
   "metadata": {},
   "outputs": [],
   "source": [
    "train_path = 'C:/Users/svneh/OneDrive/Desktop/sports/training'\n",
    "test_path = 'C:/Users/svneh/OneDrive/Desktop/sports/testing'"
   ]
  },
  {
   "cell_type": "code",
   "execution_count": 10,
   "id": "425fe986",
   "metadata": {},
   "outputs": [],
   "source": [
    "train_gen = ImageDataGenerator(rescale = 1./255,\n",
    "                              shear_range = 0.2,\n",
    "                              zoom_range = 0.2,\n",
    "                              horizontal_flip = True)\n",
    "\n",
    "test_gen = ImageDataGenerator(rescale = 1./255)"
   ]
  },
  {
   "cell_type": "code",
   "execution_count": 11,
   "id": "5c942f86",
   "metadata": {},
   "outputs": [
    {
     "name": "stdout",
     "output_type": "stream",
     "text": [
      "Found 104 images belonging to 4 classes.\n",
      "Found 49 images belonging to 4 classes.\n"
     ]
    }
   ],
   "source": [
    "train = train_gen.flow_from_directory(train_path,\n",
    "                                     target_size =(224,224) ,\n",
    "                                     batch_size=22,\n",
    "                                     class_mode = 'categorical')\n",
    "\n",
    "test = test_gen.flow_from_directory(test_path,\n",
    "                                     target_size =(224,224) ,\n",
    "                                     batch_size=22,\n",
    "                                     class_mode = 'categorical')"
   ]
  },
  {
   "cell_type": "code",
   "execution_count": 30,
   "id": "37dfc224",
   "metadata": {},
   "outputs": [
    {
     "data": {
      "text/plain": [
       "{'badmintion': 0, 'basketball': 1, 'cricket': 2, 'hockey': 3}"
      ]
     },
     "execution_count": 30,
     "metadata": {},
     "output_type": "execute_result"
    }
   ],
   "source": [
    "train.class_indices"
   ]
  },
  {
   "cell_type": "code",
   "execution_count": 12,
   "id": "684098fa",
   "metadata": {},
   "outputs": [],
   "source": [
    "from tensorflow.keras.applications.vgg16 import VGG16,preprocess_input"
   ]
  },
  {
   "cell_type": "code",
   "execution_count": 13,
   "id": "4fce36ba",
   "metadata": {},
   "outputs": [],
   "source": [
    "## Adding the preprocessing layer to the front of vgg 16"
   ]
  },
  {
   "cell_type": "code",
   "execution_count": 14,
   "id": "832b70ca",
   "metadata": {},
   "outputs": [
    {
     "name": "stdout",
     "output_type": "stream",
     "text": [
      "Downloading data from https://storage.googleapis.com/tensorflow/keras-applications/vgg16/vgg16_weights_tf_dim_ordering_tf_kernels_notop.h5\n",
      "58889256/58889256 [==============================] - 4s 0us/step\n"
     ]
    }
   ],
   "source": [
    "vgg = VGG16(include_top=False,\n",
    "             weights = 'imagenet',\n",
    "           input_shape = (224,224,3))"
   ]
  },
  {
   "cell_type": "code",
   "execution_count": 16,
   "id": "865a6e83",
   "metadata": {},
   "outputs": [
    {
     "name": "stdout",
     "output_type": "stream",
     "text": [
      "<keras.engine.input_layer.InputLayer object at 0x000001254D8AFB80>\n",
      "<keras.layers.convolutional.conv2d.Conv2D object at 0x0000012505C49750>\n",
      "<keras.layers.convolutional.conv2d.Conv2D object at 0x000001250529EDD0>\n",
      "<keras.layers.pooling.max_pooling2d.MaxPooling2D object at 0x0000012505C49CF0>\n",
      "<keras.layers.convolutional.conv2d.Conv2D object at 0x0000012505C4A920>\n",
      "<keras.layers.convolutional.conv2d.Conv2D object at 0x0000012505C7BFD0>\n",
      "<keras.layers.pooling.max_pooling2d.MaxPooling2D object at 0x0000012505C7CE20>\n",
      "<keras.layers.convolutional.conv2d.Conv2D object at 0x0000012505C49840>\n",
      "<keras.layers.convolutional.conv2d.Conv2D object at 0x0000012505C7E5C0>\n",
      "<keras.layers.convolutional.conv2d.Conv2D object at 0x0000012505C7F430>\n",
      "<keras.layers.pooling.max_pooling2d.MaxPooling2D object at 0x0000012505C7EF20>\n",
      "<keras.layers.convolutional.conv2d.Conv2D object at 0x0000012505C7FA90>\n",
      "<keras.layers.convolutional.conv2d.Conv2D object at 0x0000012505C906A0>\n",
      "<keras.layers.convolutional.conv2d.Conv2D object at 0x0000012505C7D8A0>\n",
      "<keras.layers.pooling.max_pooling2d.MaxPooling2D object at 0x0000012505CF3280>\n",
      "<keras.layers.convolutional.conv2d.Conv2D object at 0x0000012505CF3A60>\n",
      "<keras.layers.convolutional.conv2d.Conv2D object at 0x0000012505CF3BE0>\n",
      "<keras.layers.convolutional.conv2d.Conv2D object at 0x0000012505CF3400>\n",
      "<keras.layers.pooling.max_pooling2d.MaxPooling2D object at 0x0000012505DBFC40>\n"
     ]
    }
   ],
   "source": [
    "# Train model with existing weights\n",
    "\n",
    "for layer in vgg.layers:\n",
    "    print(layer)"
   ]
  },
  {
   "cell_type": "code",
   "execution_count": 17,
   "id": "39cd11a4",
   "metadata": {},
   "outputs": [],
   "source": [
    "# Train model with existing weights\n",
    "\n",
    "for layer in vgg.layers:\n",
    "  layer.trainable=False"
   ]
  },
  {
   "cell_type": "code",
   "execution_count": 18,
   "id": "5331b5d9",
   "metadata": {},
   "outputs": [],
   "source": [
    "x = Flatten()(vgg.output)"
   ]
  },
  {
   "cell_type": "code",
   "execution_count": 19,
   "id": "d0b5478f",
   "metadata": {},
   "outputs": [],
   "source": [
    "# output layer\n",
    "\n",
    "prediction = Dense(4,activation='softmax')(x)"
   ]
  },
  {
   "cell_type": "code",
   "execution_count": 20,
   "id": "88c4b55e",
   "metadata": {},
   "outputs": [],
   "source": [
    "# Create Vgg16 model\n",
    "\n",
    "model = Model(inputs=vgg.input,outputs=prediction)"
   ]
  },
  {
   "cell_type": "code",
   "execution_count": 22,
   "id": "2d62a66a",
   "metadata": {},
   "outputs": [
    {
     "name": "stdout",
     "output_type": "stream",
     "text": [
      "Model: \"model\"\n",
      "_________________________________________________________________\n",
      " Layer (type)                Output Shape              Param #   \n",
      "=================================================================\n",
      " input_1 (InputLayer)        [(None, 224, 224, 3)]     0         \n",
      "                                                                 \n",
      " block1_conv1 (Conv2D)       (None, 224, 224, 64)      1792      \n",
      "                                                                 \n",
      " block1_conv2 (Conv2D)       (None, 224, 224, 64)      36928     \n",
      "                                                                 \n",
      " block1_pool (MaxPooling2D)  (None, 112, 112, 64)      0         \n",
      "                                                                 \n",
      " block2_conv1 (Conv2D)       (None, 112, 112, 128)     73856     \n",
      "                                                                 \n",
      " block2_conv2 (Conv2D)       (None, 112, 112, 128)     147584    \n",
      "                                                                 \n",
      " block2_pool (MaxPooling2D)  (None, 56, 56, 128)       0         \n",
      "                                                                 \n",
      " block3_conv1 (Conv2D)       (None, 56, 56, 256)       295168    \n",
      "                                                                 \n",
      " block3_conv2 (Conv2D)       (None, 56, 56, 256)       590080    \n",
      "                                                                 \n",
      " block3_conv3 (Conv2D)       (None, 56, 56, 256)       590080    \n",
      "                                                                 \n",
      " block3_pool (MaxPooling2D)  (None, 28, 28, 256)       0         \n",
      "                                                                 \n",
      " block4_conv1 (Conv2D)       (None, 28, 28, 512)       1180160   \n",
      "                                                                 \n",
      " block4_conv2 (Conv2D)       (None, 28, 28, 512)       2359808   \n",
      "                                                                 \n",
      " block4_conv3 (Conv2D)       (None, 28, 28, 512)       2359808   \n",
      "                                                                 \n",
      " block4_pool (MaxPooling2D)  (None, 14, 14, 512)       0         \n",
      "                                                                 \n",
      " block5_conv1 (Conv2D)       (None, 14, 14, 512)       2359808   \n",
      "                                                                 \n",
      " block5_conv2 (Conv2D)       (None, 14, 14, 512)       2359808   \n",
      "                                                                 \n",
      " block5_conv3 (Conv2D)       (None, 14, 14, 512)       2359808   \n",
      "                                                                 \n",
      " block5_pool (MaxPooling2D)  (None, 7, 7, 512)         0         \n",
      "                                                                 \n",
      " flatten (Flatten)           (None, 25088)             0         \n",
      "                                                                 \n",
      " dense (Dense)               (None, 4)                 100356    \n",
      "                                                                 \n",
      "=================================================================\n",
      "Total params: 14,815,044\n",
      "Trainable params: 100,356\n",
      "Non-trainable params: 14,714,688\n",
      "_________________________________________________________________\n"
     ]
    }
   ],
   "source": [
    "model.summary()"
   ]
  },
  {
   "cell_type": "code",
   "execution_count": 23,
   "id": "bdee0039",
   "metadata": {},
   "outputs": [],
   "source": [
    "\n",
    "model.compile(loss='categorical_crossentropy',optimizer='adam',metrics=['accuracy'])"
   ]
  },
  {
   "cell_type": "code",
   "execution_count": 24,
   "id": "aea3832d",
   "metadata": {},
   "outputs": [
    {
     "name": "stderr",
     "output_type": "stream",
     "text": [
      "C:\\Users\\svneh\\AppData\\Local\\Temp\\ipykernel_3016\\2139960344.py:1: UserWarning: `Model.fit_generator` is deprecated and will be removed in a future version. Please use `Model.fit`, which supports generators.\n",
      "  model.fit_generator(train,validation_data=test,epochs=4,steps_per_epoch=len(train),\n"
     ]
    },
    {
     "name": "stdout",
     "output_type": "stream",
     "text": [
      "Epoch 1/4\n",
      "5/5 [==============================] - 17s 3s/step - loss: 2.0841 - accuracy: 0.3654 - val_loss: 1.8353 - val_accuracy: 0.4286\n",
      "Epoch 2/4\n",
      "5/5 [==============================] - 14s 3s/step - loss: 0.7277 - accuracy: 0.7019 - val_loss: 1.7452 - val_accuracy: 0.4490\n",
      "Epoch 3/4\n",
      "5/5 [==============================] - 15s 3s/step - loss: 0.6480 - accuracy: 0.7500 - val_loss: 0.6147 - val_accuracy: 0.7755\n",
      "Epoch 4/4\n",
      "5/5 [==============================] - 15s 3s/step - loss: 0.3032 - accuracy: 0.9038 - val_loss: 0.7052 - val_accuracy: 0.7143\n"
     ]
    },
    {
     "data": {
      "text/plain": [
       "<keras.callbacks.History at 0x125065dad70>"
      ]
     },
     "execution_count": 24,
     "metadata": {},
     "output_type": "execute_result"
    }
   ],
   "source": [
    "model.fit_generator(train,validation_data=test,epochs=4,steps_per_epoch=len(train),\n",
    "                    validation_steps=len(test))"
   ]
  },
  {
   "cell_type": "code",
   "execution_count": 27,
   "id": "cf24d012",
   "metadata": {},
   "outputs": [
    {
     "name": "stdout",
     "output_type": "stream",
     "text": [
      "['badminton', 'basketball', 'cricket', 'hockey']\n"
     ]
    }
   ],
   "source": [
    "output = ['badminton','basketball','cricket','hockey']\n",
    "print(output)"
   ]
  },
  {
   "cell_type": "code",
   "execution_count": 39,
   "id": "22ac6205",
   "metadata": {},
   "outputs": [
    {
     "name": "stdout",
     "output_type": "stream",
     "text": [
      "1/1 [==============================] - 0s 202ms/step\n",
      "3\n",
      "hockey\n"
     ]
    }
   ],
   "source": [
    "img1 = image.load_img(\"C:/Users/svneh/Downloads/basketball.jpg\",target_size=(224,224))\n",
    "img1 = image.img_to_array(img1)\n",
    "img1 = np.expand_dims(img1,axis=0)\n",
    "pred = np.argmax(model.predict(img1))\n",
    "print(pred)\n",
    "print(output[pred])"
   ]
  },
  {
   "cell_type": "code",
   "execution_count": 31,
   "id": "919d08c7",
   "metadata": {},
   "outputs": [
    {
     "name": "stdout",
     "output_type": "stream",
     "text": [
      "1/1 [==============================] - 0s 200ms/step\n",
      "2\n",
      "cricket\n"
     ]
    }
   ],
   "source": [
    "img2 = image.load_img(\"C:/Users/svneh/Downloads/cricket.jpg\",target_size=(224,224))\n",
    "img2 = image.img_to_array(img2)\n",
    "img2 = np.expand_dims(img2,axis=0)\n",
    "pred = np.argmax(model.predict(img2))\n",
    "print(pred)\n",
    "print(output[pred])"
   ]
  },
  {
   "cell_type": "code",
   "execution_count": 32,
   "id": "cdceda8b",
   "metadata": {},
   "outputs": [
    {
     "name": "stdout",
     "output_type": "stream",
     "text": [
      "1/1 [==============================] - 0s 186ms/step\n",
      "3\n",
      "hockey\n"
     ]
    }
   ],
   "source": [
    "img3 = image.load_img(\"C:/Users/svneh/Downloads/hockey.jpg\",target_size=(224,224))\n",
    "img3 = image.img_to_array(img3)\n",
    "img3 = np.expand_dims(img3,axis=0)\n",
    "pred = np.argmax(model.predict(img3))\n",
    "print(pred)\n",
    "print(output[pred])"
   ]
  },
  {
   "cell_type": "code",
   "execution_count": 34,
   "id": "77a875c4",
   "metadata": {},
   "outputs": [
    {
     "name": "stdout",
     "output_type": "stream",
     "text": [
      "1/1 [==============================] - 0s 180ms/step\n",
      "0\n",
      "badminton\n"
     ]
    }
   ],
   "source": [
    "img4 = image.load_img(\"C:/Users/svneh/Downloads/badminton.jpg\",target_size=(224,224))\n",
    "img4 = image.img_to_array(img4)\n",
    "img4 = np.expand_dims(img4,axis=0)\n",
    "pred = np.argmax(model.predict(img4))\n",
    "print(pred)\n",
    "print(output[pred])"
   ]
  },
  {
   "cell_type": "code",
   "execution_count": 36,
   "id": "8ddb01cb",
   "metadata": {},
   "outputs": [],
   "source": [
    "import cv2 as cv"
   ]
  },
  {
   "cell_type": "markdown",
   "id": "e5489307",
   "metadata": {},
   "source": [
    "# RESNET 50"
   ]
  },
  {
   "cell_type": "code",
   "execution_count": 41,
   "id": "54130f85",
   "metadata": {},
   "outputs": [],
   "source": [
    "from tensorflow.keras.applications.resnet50 import ResNet50"
   ]
  },
  {
   "cell_type": "code",
   "execution_count": 42,
   "id": "757a2fd0",
   "metadata": {},
   "outputs": [
    {
     "name": "stdout",
     "output_type": "stream",
     "text": [
      "Downloading data from https://storage.googleapis.com/tensorflow/keras-applications/resnet/resnet50_weights_tf_dim_ordering_tf_kernels_notop.h5\n",
      "94765736/94765736 [==============================] - 6s 0us/step\n"
     ]
    }
   ],
   "source": [
    "resnet = ResNet50(include_top = False,\n",
    "                 input_shape = (224,224,3))"
   ]
  },
  {
   "cell_type": "code",
   "execution_count": 44,
   "id": "7f37d1d6",
   "metadata": {},
   "outputs": [],
   "source": [
    "for layer in resnet.layers:\n",
    "    layer.trainable = False"
   ]
  },
  {
   "cell_type": "code",
   "execution_count": 45,
   "id": "7295d4b2",
   "metadata": {},
   "outputs": [
    {
     "name": "stdout",
     "output_type": "stream",
     "text": [
      "<keras.engine.input_layer.InputLayer object at 0x0000012506BA7A90>\n",
      "<keras.layers.reshaping.zero_padding2d.ZeroPadding2D object at 0x0000012506BA7B80>\n",
      "<keras.layers.convolutional.conv2d.Conv2D object at 0x0000012506CF2050>\n",
      "<keras.layers.normalization.batch_normalization.BatchNormalization object at 0x000001250782C2E0>\n",
      "<keras.layers.core.activation.Activation object at 0x0000012506BA5E70>\n",
      "<keras.layers.reshaping.zero_padding2d.ZeroPadding2D object at 0x000001250782CDF0>\n",
      "<keras.layers.pooling.max_pooling2d.MaxPooling2D object at 0x000001250782E4A0>\n",
      "<keras.layers.convolutional.conv2d.Conv2D object at 0x000001250782F5E0>\n",
      "<keras.layers.normalization.batch_normalization.BatchNormalization object at 0x000001250782E3B0>\n",
      "<keras.layers.core.activation.Activation object at 0x0000012507844A00>\n",
      "<keras.layers.convolutional.conv2d.Conv2D object at 0x0000012507845F90>\n",
      "<keras.layers.normalization.batch_normalization.BatchNormalization object at 0x0000012507847850>\n",
      "<keras.layers.core.activation.Activation object at 0x0000012507846DA0>\n",
      "<keras.layers.convolutional.conv2d.Conv2D object at 0x000001250782EFE0>\n",
      "<keras.layers.convolutional.conv2d.Conv2D object at 0x0000012507854190>\n",
      "<keras.layers.normalization.batch_normalization.BatchNormalization object at 0x000001250782E260>\n",
      "<keras.layers.normalization.batch_normalization.BatchNormalization object at 0x0000012507855360>\n",
      "<keras.layers.merging.add.Add object at 0x0000012507846140>\n",
      "<keras.layers.core.activation.Activation object at 0x0000012507856470>\n",
      "<keras.layers.convolutional.conv2d.Conv2D object at 0x0000012507857760>\n",
      "<keras.layers.normalization.batch_normalization.BatchNormalization object at 0x0000012507857460>\n",
      "<keras.layers.core.activation.Activation object at 0x0000012507855EA0>\n",
      "<keras.layers.convolutional.conv2d.Conv2D object at 0x0000012506CC06D0>\n",
      "<keras.layers.normalization.batch_normalization.BatchNormalization object at 0x000001250782DD80>\n",
      "<keras.layers.core.activation.Activation object at 0x000001250508BB20>\n",
      "<keras.layers.convolutional.conv2d.Conv2D object at 0x0000012506BA6F50>\n",
      "<keras.layers.normalization.batch_normalization.BatchNormalization object at 0x0000012506BA6740>\n",
      "<keras.layers.merging.add.Add object at 0x0000012507846D70>\n",
      "<keras.layers.core.activation.Activation object at 0x0000012506BF3CA0>\n",
      "<keras.layers.convolutional.conv2d.Conv2D object at 0x0000012506BF2440>\n",
      "<keras.layers.normalization.batch_normalization.BatchNormalization object at 0x0000012507864730>\n",
      "<keras.layers.core.activation.Activation object at 0x0000012506BF1F60>\n",
      "<keras.layers.convolutional.conv2d.Conv2D object at 0x00000125078666E0>\n",
      "<keras.layers.normalization.batch_normalization.BatchNormalization object at 0x0000012507864C40>\n",
      "<keras.layers.core.activation.Activation object at 0x0000012507867C70>\n",
      "<keras.layers.convolutional.conv2d.Conv2D object at 0x0000012507867670>\n",
      "<keras.layers.normalization.batch_normalization.BatchNormalization object at 0x00000125078654B0>\n",
      "<keras.layers.merging.add.Add object at 0x0000012507866FE0>\n",
      "<keras.layers.core.activation.Activation object at 0x0000012507652890>\n",
      "<keras.layers.convolutional.conv2d.Conv2D object at 0x0000012507653310>\n",
      "<keras.layers.normalization.batch_normalization.BatchNormalization object at 0x00000125078787F0>\n",
      "<keras.layers.core.activation.Activation object at 0x000001250787A650>\n",
      "<keras.layers.convolutional.conv2d.Conv2D object at 0x000001250787ACE0>\n",
      "<keras.layers.normalization.batch_normalization.BatchNormalization object at 0x000001250787BFA0>\n",
      "<keras.layers.core.activation.Activation object at 0x000001250787AD40>\n",
      "<keras.layers.convolutional.conv2d.Conv2D object at 0x00000125076531C0>\n",
      "<keras.layers.convolutional.conv2d.Conv2D object at 0x0000012507885510>\n",
      "<keras.layers.normalization.batch_normalization.BatchNormalization object at 0x0000012507653FA0>\n",
      "<keras.layers.normalization.batch_normalization.BatchNormalization object at 0x0000012507886410>\n",
      "<keras.layers.merging.add.Add object at 0x0000012507886800>\n",
      "<keras.layers.core.activation.Activation object at 0x0000012507887A60>\n",
      "<keras.layers.convolutional.conv2d.Conv2D object at 0x00000125078943D0>\n",
      "<keras.layers.normalization.batch_normalization.BatchNormalization object at 0x00000125078951B0>\n",
      "<keras.layers.core.activation.Activation object at 0x0000012507887910>\n",
      "<keras.layers.convolutional.conv2d.Conv2D object at 0x0000012507895FF0>\n",
      "<keras.layers.normalization.batch_normalization.BatchNormalization object at 0x00000125078971C0>\n",
      "<keras.layers.core.activation.Activation object at 0x00000125078974C0>\n",
      "<keras.layers.convolutional.conv2d.Conv2D object at 0x0000012507896740>\n",
      "<keras.layers.normalization.batch_normalization.BatchNormalization object at 0x00000125078966E0>\n",
      "<keras.layers.merging.add.Add object at 0x000001250787A6B0>\n",
      "<keras.layers.core.activation.Activation object at 0x0000012507878EB0>\n",
      "<keras.layers.convolutional.conv2d.Conv2D object at 0x00000125076502B0>\n",
      "<keras.layers.normalization.batch_normalization.BatchNormalization object at 0x0000012506BF3400>\n",
      "<keras.layers.core.activation.Activation object at 0x0000012506D53490>\n",
      "<keras.layers.convolutional.conv2d.Conv2D object at 0x0000012507879780>\n",
      "<keras.layers.normalization.batch_normalization.BatchNormalization object at 0x0000012507650C40>\n",
      "<keras.layers.core.activation.Activation object at 0x00000125078AD3C0>\n",
      "<keras.layers.convolutional.conv2d.Conv2D object at 0x00000125078AD330>\n",
      "<keras.layers.normalization.batch_normalization.BatchNormalization object at 0x00000125078AFC40>\n",
      "<keras.layers.merging.add.Add object at 0x00000125078AEF80>\n",
      "<keras.layers.core.activation.Activation object at 0x00000125078B46A0>\n",
      "<keras.layers.convolutional.conv2d.Conv2D object at 0x00000125078B5990>\n",
      "<keras.layers.normalization.batch_normalization.BatchNormalization object at 0x00000125078AC460>\n",
      "<keras.layers.core.activation.Activation object at 0x00000125078B5C30>\n",
      "<keras.layers.convolutional.conv2d.Conv2D object at 0x00000125078B6C50>\n",
      "<keras.layers.normalization.batch_normalization.BatchNormalization object at 0x00000125078B7670>\n",
      "<keras.layers.core.activation.Activation object at 0x00000125078B54E0>\n",
      "<keras.layers.convolutional.conv2d.Conv2D object at 0x00000125078C8E50>\n",
      "<keras.layers.normalization.batch_normalization.BatchNormalization object at 0x00000125078CA710>\n",
      "<keras.layers.merging.add.Add object at 0x00000125078CAB00>\n",
      "<keras.layers.core.activation.Activation object at 0x00000125078CB130>\n",
      "<keras.layers.convolutional.conv2d.Conv2D object at 0x00000125078DD3F0>\n",
      "<keras.layers.normalization.batch_normalization.BatchNormalization object at 0x00000125078DD810>\n",
      "<keras.layers.core.activation.Activation object at 0x00000125078DD4B0>\n",
      "<keras.layers.convolutional.conv2d.Conv2D object at 0x00000125078DC370>\n",
      "<keras.layers.normalization.batch_normalization.BatchNormalization object at 0x00000125078DFBB0>\n",
      "<keras.layers.core.activation.Activation object at 0x00000125078DD4E0>\n",
      "<keras.layers.convolutional.conv2d.Conv2D object at 0x00000125078CB940>\n",
      "<keras.layers.convolutional.conv2d.Conv2D object at 0x00000125078FD390>\n",
      "<keras.layers.normalization.batch_normalization.BatchNormalization object at 0x00000125078CBD60>\n",
      "<keras.layers.normalization.batch_normalization.BatchNormalization object at 0x00000125078FEC50>\n",
      "<keras.layers.merging.add.Add object at 0x00000125078FF040>\n",
      "<keras.layers.core.activation.Activation object at 0x00000125078FF670>\n",
      "<keras.layers.convolutional.conv2d.Conv2D object at 0x00000125078FF4F0>\n",
      "<keras.layers.normalization.batch_normalization.BatchNormalization object at 0x00000125078FF370>\n",
      "<keras.layers.core.activation.Activation object at 0x00000125078DE920>\n",
      "<keras.layers.convolutional.conv2d.Conv2D object at 0x00000125078B69B0>\n",
      "<keras.layers.normalization.batch_normalization.BatchNormalization object at 0x00000125078B6920>\n",
      "<keras.layers.core.activation.Activation object at 0x00000125078B5900>\n",
      "<keras.layers.convolutional.conv2d.Conv2D object at 0x00000125078660E0>\n",
      "<keras.layers.normalization.batch_normalization.BatchNormalization object at 0x00000125078DC250>\n",
      "<keras.layers.merging.add.Add object at 0x0000012507865810>\n",
      "<keras.layers.core.activation.Activation object at 0x0000012507916110>\n",
      "<keras.layers.convolutional.conv2d.Conv2D object at 0x00000125078FD540>\n",
      "<keras.layers.normalization.batch_normalization.BatchNormalization object at 0x00000125079172E0>\n",
      "<keras.layers.core.activation.Activation object at 0x0000012507914970>\n",
      "<keras.layers.convolutional.conv2d.Conv2D object at 0x0000012507915750>\n",
      "<keras.layers.normalization.batch_normalization.BatchNormalization object at 0x00000125079173D0>\n",
      "<keras.layers.core.activation.Activation object at 0x0000012507915F00>\n",
      "<keras.layers.convolutional.conv2d.Conv2D object at 0x0000012507926530>\n",
      "<keras.layers.normalization.batch_normalization.BatchNormalization object at 0x00000125079242E0>\n",
      "<keras.layers.merging.add.Add object at 0x00000125079149D0>\n",
      "<keras.layers.core.activation.Activation object at 0x0000012507927040>\n",
      "<keras.layers.convolutional.conv2d.Conv2D object at 0x0000012507926D70>\n",
      "<keras.layers.normalization.batch_normalization.BatchNormalization object at 0x0000012507926E90>\n",
      "<keras.layers.core.activation.Activation object at 0x00000125079279D0>\n",
      "<keras.layers.convolutional.conv2d.Conv2D object at 0x0000012507925E10>\n",
      "<keras.layers.normalization.batch_normalization.BatchNormalization object at 0x000001250793E950>\n",
      "<keras.layers.core.activation.Activation object at 0x000001250793E6B0>\n",
      "<keras.layers.convolutional.conv2d.Conv2D object at 0x000001250793E5C0>\n",
      "<keras.layers.normalization.batch_normalization.BatchNormalization object at 0x000001250793E530>\n",
      "<keras.layers.merging.add.Add object at 0x000001250793FFD0>\n",
      "<keras.layers.core.activation.Activation object at 0x000001250793FDF0>\n",
      "<keras.layers.convolutional.conv2d.Conv2D object at 0x000001250795D8D0>\n",
      "<keras.layers.normalization.batch_normalization.BatchNormalization object at 0x000001250795E980>\n",
      "<keras.layers.core.activation.Activation object at 0x000001250795D2A0>\n",
      "<keras.layers.convolutional.conv2d.Conv2D object at 0x000001250795C1F0>\n",
      "<keras.layers.normalization.batch_normalization.BatchNormalization object at 0x000001250795D4E0>\n",
      "<keras.layers.core.activation.Activation object at 0x000001250795F5B0>\n",
      "<keras.layers.convolutional.conv2d.Conv2D object at 0x000001250795F6D0>\n",
      "<keras.layers.normalization.batch_normalization.BatchNormalization object at 0x000001250797DEA0>\n",
      "<keras.layers.merging.add.Add object at 0x000001250795FF40>\n",
      "<keras.layers.core.activation.Activation object at 0x000001250795CDC0>\n",
      "<keras.layers.convolutional.conv2d.Conv2D object at 0x000001250795D480>\n",
      "<keras.layers.normalization.batch_normalization.BatchNormalization object at 0x000001250795CE80>\n",
      "<keras.layers.core.activation.Activation object at 0x000001250793DCC0>\n",
      "<keras.layers.convolutional.conv2d.Conv2D object at 0x000001250795C610>\n",
      "<keras.layers.normalization.batch_normalization.BatchNormalization object at 0x0000012507879870>\n",
      "<keras.layers.core.activation.Activation object at 0x00000125078659C0>\n",
      "<keras.layers.convolutional.conv2d.Conv2D object at 0x00000125078B51B0>\n",
      "<keras.layers.normalization.batch_normalization.BatchNormalization object at 0x0000012507924B20>\n",
      "<keras.layers.merging.add.Add object at 0x00000125078C8280>\n",
      "<keras.layers.core.activation.Activation object at 0x0000012507879480>\n",
      "<keras.layers.convolutional.conv2d.Conv2D object at 0x000001250797C880>\n",
      "<keras.layers.normalization.batch_normalization.BatchNormalization object at 0x000001250797CA90>\n",
      "<keras.layers.core.activation.Activation object at 0x000001250799F280>\n",
      "<keras.layers.convolutional.conv2d.Conv2D object at 0x000001250799F3A0>\n",
      "<keras.layers.normalization.batch_normalization.BatchNormalization object at 0x000001250799FE20>\n",
      "<keras.layers.core.activation.Activation object at 0x000001250799FE50>\n",
      "<keras.layers.convolutional.conv2d.Conv2D object at 0x000001250797FCD0>\n",
      "<keras.layers.convolutional.conv2d.Conv2D object at 0x000001250799E050>\n",
      "<keras.layers.normalization.batch_normalization.BatchNormalization object at 0x000001250797F3A0>\n",
      "<keras.layers.normalization.batch_normalization.BatchNormalization object at 0x00000125079B5AE0>\n",
      "<keras.layers.merging.add.Add object at 0x000001250799E590>\n",
      "<keras.layers.core.activation.Activation object at 0x00000125079B70D0>\n",
      "<keras.layers.convolutional.conv2d.Conv2D object at 0x00000125079B7220>\n",
      "<keras.layers.normalization.batch_normalization.BatchNormalization object at 0x00000125079B7E50>\n",
      "<keras.layers.core.activation.Activation object at 0x00000125079B6830>\n",
      "<keras.layers.convolutional.conv2d.Conv2D object at 0x00000125079B7160>\n",
      "<keras.layers.normalization.batch_normalization.BatchNormalization object at 0x00000125079B78E0>\n",
      "<keras.layers.core.activation.Activation object at 0x00000125079D1F00>\n",
      "<keras.layers.convolutional.conv2d.Conv2D object at 0x00000125079D21D0>\n",
      "<keras.layers.normalization.batch_normalization.BatchNormalization object at 0x00000125079D3370>\n",
      "<keras.layers.merging.add.Add object at 0x00000125079B79A0>\n",
      "<keras.layers.core.activation.Activation object at 0x00000125079D39A0>\n",
      "<keras.layers.convolutional.conv2d.Conv2D object at 0x00000125079D2A70>\n",
      "<keras.layers.normalization.batch_normalization.BatchNormalization object at 0x00000125079D34C0>\n",
      "<keras.layers.core.activation.Activation object at 0x00000125079D3790>\n",
      "<keras.layers.convolutional.conv2d.Conv2D object at 0x00000125079D3700>\n",
      "<keras.layers.normalization.batch_normalization.BatchNormalization object at 0x00000125079FAFB0>\n",
      "<keras.layers.core.activation.Activation object at 0x00000125079FACE0>\n",
      "<keras.layers.convolutional.conv2d.Conv2D object at 0x00000125079FB310>\n",
      "<keras.layers.normalization.batch_normalization.BatchNormalization object at 0x00000125079FAEF0>\n",
      "<keras.layers.merging.add.Add object at 0x00000125079D0520>\n",
      "<keras.layers.core.activation.Activation object at 0x00000125079D0700>\n"
     ]
    }
   ],
   "source": [
    "for layer in resnet.layers:\n",
    "    print(layer)"
   ]
  },
  {
   "cell_type": "code",
   "execution_count": 46,
   "id": "046d7890",
   "metadata": {},
   "outputs": [],
   "source": [
    "x = Flatten()(resnet.output)"
   ]
  },
  {
   "cell_type": "code",
   "execution_count": 47,
   "id": "be127ada",
   "metadata": {},
   "outputs": [],
   "source": [
    "# output layer\n",
    "\n",
    "prediction = Dense(4,activation='softmax')(x)"
   ]
  },
  {
   "cell_type": "code",
   "execution_count": 48,
   "id": "ce1e7553",
   "metadata": {},
   "outputs": [],
   "source": [
    "# Create Vgg16 model\n",
    "\n",
    "model = Model(inputs=resnet.input,outputs=prediction)"
   ]
  },
  {
   "cell_type": "code",
   "execution_count": 49,
   "id": "fc558d20",
   "metadata": {},
   "outputs": [
    {
     "name": "stdout",
     "output_type": "stream",
     "text": [
      "Model: \"model_1\"\n",
      "__________________________________________________________________________________________________\n",
      " Layer (type)                   Output Shape         Param #     Connected to                     \n",
      "==================================================================================================\n",
      " input_2 (InputLayer)           [(None, 224, 224, 3  0           []                               \n",
      "                                )]                                                                \n",
      "                                                                                                  \n",
      " conv1_pad (ZeroPadding2D)      (None, 230, 230, 3)  0           ['input_2[0][0]']                \n",
      "                                                                                                  \n",
      " conv1_conv (Conv2D)            (None, 112, 112, 64  9472        ['conv1_pad[0][0]']              \n",
      "                                )                                                                 \n",
      "                                                                                                  \n",
      " conv1_bn (BatchNormalization)  (None, 112, 112, 64  256         ['conv1_conv[0][0]']             \n",
      "                                )                                                                 \n",
      "                                                                                                  \n",
      " conv1_relu (Activation)        (None, 112, 112, 64  0           ['conv1_bn[0][0]']               \n",
      "                                )                                                                 \n",
      "                                                                                                  \n",
      " pool1_pad (ZeroPadding2D)      (None, 114, 114, 64  0           ['conv1_relu[0][0]']             \n",
      "                                )                                                                 \n",
      "                                                                                                  \n",
      " pool1_pool (MaxPooling2D)      (None, 56, 56, 64)   0           ['pool1_pad[0][0]']              \n",
      "                                                                                                  \n",
      " conv2_block1_1_conv (Conv2D)   (None, 56, 56, 64)   4160        ['pool1_pool[0][0]']             \n",
      "                                                                                                  \n",
      " conv2_block1_1_bn (BatchNormal  (None, 56, 56, 64)  256         ['conv2_block1_1_conv[0][0]']    \n",
      " ization)                                                                                         \n",
      "                                                                                                  \n",
      " conv2_block1_1_relu (Activatio  (None, 56, 56, 64)  0           ['conv2_block1_1_bn[0][0]']      \n",
      " n)                                                                                               \n",
      "                                                                                                  \n",
      " conv2_block1_2_conv (Conv2D)   (None, 56, 56, 64)   36928       ['conv2_block1_1_relu[0][0]']    \n",
      "                                                                                                  \n",
      " conv2_block1_2_bn (BatchNormal  (None, 56, 56, 64)  256         ['conv2_block1_2_conv[0][0]']    \n",
      " ization)                                                                                         \n",
      "                                                                                                  \n",
      " conv2_block1_2_relu (Activatio  (None, 56, 56, 64)  0           ['conv2_block1_2_bn[0][0]']      \n",
      " n)                                                                                               \n",
      "                                                                                                  \n",
      " conv2_block1_0_conv (Conv2D)   (None, 56, 56, 256)  16640       ['pool1_pool[0][0]']             \n",
      "                                                                                                  \n",
      " conv2_block1_3_conv (Conv2D)   (None, 56, 56, 256)  16640       ['conv2_block1_2_relu[0][0]']    \n",
      "                                                                                                  \n",
      " conv2_block1_0_bn (BatchNormal  (None, 56, 56, 256)  1024       ['conv2_block1_0_conv[0][0]']    \n",
      " ization)                                                                                         \n",
      "                                                                                                  \n",
      " conv2_block1_3_bn (BatchNormal  (None, 56, 56, 256)  1024       ['conv2_block1_3_conv[0][0]']    \n",
      " ization)                                                                                         \n",
      "                                                                                                  \n",
      " conv2_block1_add (Add)         (None, 56, 56, 256)  0           ['conv2_block1_0_bn[0][0]',      \n",
      "                                                                  'conv2_block1_3_bn[0][0]']      \n",
      "                                                                                                  \n",
      " conv2_block1_out (Activation)  (None, 56, 56, 256)  0           ['conv2_block1_add[0][0]']       \n",
      "                                                                                                  \n",
      " conv2_block2_1_conv (Conv2D)   (None, 56, 56, 64)   16448       ['conv2_block1_out[0][0]']       \n",
      "                                                                                                  \n",
      " conv2_block2_1_bn (BatchNormal  (None, 56, 56, 64)  256         ['conv2_block2_1_conv[0][0]']    \n",
      " ization)                                                                                         \n",
      "                                                                                                  \n",
      " conv2_block2_1_relu (Activatio  (None, 56, 56, 64)  0           ['conv2_block2_1_bn[0][0]']      \n",
      " n)                                                                                               \n",
      "                                                                                                  \n",
      " conv2_block2_2_conv (Conv2D)   (None, 56, 56, 64)   36928       ['conv2_block2_1_relu[0][0]']    \n",
      "                                                                                                  \n",
      " conv2_block2_2_bn (BatchNormal  (None, 56, 56, 64)  256         ['conv2_block2_2_conv[0][0]']    \n",
      " ization)                                                                                         \n",
      "                                                                                                  \n",
      " conv2_block2_2_relu (Activatio  (None, 56, 56, 64)  0           ['conv2_block2_2_bn[0][0]']      \n",
      " n)                                                                                               \n",
      "                                                                                                  \n",
      " conv2_block2_3_conv (Conv2D)   (None, 56, 56, 256)  16640       ['conv2_block2_2_relu[0][0]']    \n",
      "                                                                                                  \n",
      " conv2_block2_3_bn (BatchNormal  (None, 56, 56, 256)  1024       ['conv2_block2_3_conv[0][0]']    \n",
      " ization)                                                                                         \n",
      "                                                                                                  \n",
      " conv2_block2_add (Add)         (None, 56, 56, 256)  0           ['conv2_block1_out[0][0]',       \n",
      "                                                                  'conv2_block2_3_bn[0][0]']      \n",
      "                                                                                                  \n",
      " conv2_block2_out (Activation)  (None, 56, 56, 256)  0           ['conv2_block2_add[0][0]']       \n",
      "                                                                                                  \n",
      " conv2_block3_1_conv (Conv2D)   (None, 56, 56, 64)   16448       ['conv2_block2_out[0][0]']       \n",
      "                                                                                                  \n",
      " conv2_block3_1_bn (BatchNormal  (None, 56, 56, 64)  256         ['conv2_block3_1_conv[0][0]']    \n",
      " ization)                                                                                         \n"
     ]
    },
    {
     "name": "stdout",
     "output_type": "stream",
     "text": [
      "                                                                                                  \n",
      " conv2_block3_1_relu (Activatio  (None, 56, 56, 64)  0           ['conv2_block3_1_bn[0][0]']      \n",
      " n)                                                                                               \n",
      "                                                                                                  \n",
      " conv2_block3_2_conv (Conv2D)   (None, 56, 56, 64)   36928       ['conv2_block3_1_relu[0][0]']    \n",
      "                                                                                                  \n",
      " conv2_block3_2_bn (BatchNormal  (None, 56, 56, 64)  256         ['conv2_block3_2_conv[0][0]']    \n",
      " ization)                                                                                         \n",
      "                                                                                                  \n",
      " conv2_block3_2_relu (Activatio  (None, 56, 56, 64)  0           ['conv2_block3_2_bn[0][0]']      \n",
      " n)                                                                                               \n",
      "                                                                                                  \n",
      " conv2_block3_3_conv (Conv2D)   (None, 56, 56, 256)  16640       ['conv2_block3_2_relu[0][0]']    \n",
      "                                                                                                  \n",
      " conv2_block3_3_bn (BatchNormal  (None, 56, 56, 256)  1024       ['conv2_block3_3_conv[0][0]']    \n",
      " ization)                                                                                         \n",
      "                                                                                                  \n",
      " conv2_block3_add (Add)         (None, 56, 56, 256)  0           ['conv2_block2_out[0][0]',       \n",
      "                                                                  'conv2_block3_3_bn[0][0]']      \n",
      "                                                                                                  \n",
      " conv2_block3_out (Activation)  (None, 56, 56, 256)  0           ['conv2_block3_add[0][0]']       \n",
      "                                                                                                  \n",
      " conv3_block1_1_conv (Conv2D)   (None, 28, 28, 128)  32896       ['conv2_block3_out[0][0]']       \n",
      "                                                                                                  \n",
      " conv3_block1_1_bn (BatchNormal  (None, 28, 28, 128)  512        ['conv3_block1_1_conv[0][0]']    \n",
      " ization)                                                                                         \n",
      "                                                                                                  \n",
      " conv3_block1_1_relu (Activatio  (None, 28, 28, 128)  0          ['conv3_block1_1_bn[0][0]']      \n",
      " n)                                                                                               \n",
      "                                                                                                  \n",
      " conv3_block1_2_conv (Conv2D)   (None, 28, 28, 128)  147584      ['conv3_block1_1_relu[0][0]']    \n",
      "                                                                                                  \n",
      " conv3_block1_2_bn (BatchNormal  (None, 28, 28, 128)  512        ['conv3_block1_2_conv[0][0]']    \n",
      " ization)                                                                                         \n",
      "                                                                                                  \n",
      " conv3_block1_2_relu (Activatio  (None, 28, 28, 128)  0          ['conv3_block1_2_bn[0][0]']      \n",
      " n)                                                                                               \n",
      "                                                                                                  \n",
      " conv3_block1_0_conv (Conv2D)   (None, 28, 28, 512)  131584      ['conv2_block3_out[0][0]']       \n",
      "                                                                                                  \n",
      " conv3_block1_3_conv (Conv2D)   (None, 28, 28, 512)  66048       ['conv3_block1_2_relu[0][0]']    \n",
      "                                                                                                  \n",
      " conv3_block1_0_bn (BatchNormal  (None, 28, 28, 512)  2048       ['conv3_block1_0_conv[0][0]']    \n",
      " ization)                                                                                         \n",
      "                                                                                                  \n",
      " conv3_block1_3_bn (BatchNormal  (None, 28, 28, 512)  2048       ['conv3_block1_3_conv[0][0]']    \n",
      " ization)                                                                                         \n",
      "                                                                                                  \n",
      " conv3_block1_add (Add)         (None, 28, 28, 512)  0           ['conv3_block1_0_bn[0][0]',      \n",
      "                                                                  'conv3_block1_3_bn[0][0]']      \n",
      "                                                                                                  \n",
      " conv3_block1_out (Activation)  (None, 28, 28, 512)  0           ['conv3_block1_add[0][0]']       \n",
      "                                                                                                  \n",
      " conv3_block2_1_conv (Conv2D)   (None, 28, 28, 128)  65664       ['conv3_block1_out[0][0]']       \n",
      "                                                                                                  \n",
      " conv3_block2_1_bn (BatchNormal  (None, 28, 28, 128)  512        ['conv3_block2_1_conv[0][0]']    \n",
      " ization)                                                                                         \n",
      "                                                                                                  \n",
      " conv3_block2_1_relu (Activatio  (None, 28, 28, 128)  0          ['conv3_block2_1_bn[0][0]']      \n",
      " n)                                                                                               \n",
      "                                                                                                  \n",
      " conv3_block2_2_conv (Conv2D)   (None, 28, 28, 128)  147584      ['conv3_block2_1_relu[0][0]']    \n",
      "                                                                                                  \n",
      " conv3_block2_2_bn (BatchNormal  (None, 28, 28, 128)  512        ['conv3_block2_2_conv[0][0]']    \n",
      " ization)                                                                                         \n",
      "                                                                                                  \n",
      " conv3_block2_2_relu (Activatio  (None, 28, 28, 128)  0          ['conv3_block2_2_bn[0][0]']      \n",
      " n)                                                                                               \n",
      "                                                                                                  \n",
      " conv3_block2_3_conv (Conv2D)   (None, 28, 28, 512)  66048       ['conv3_block2_2_relu[0][0]']    \n",
      "                                                                                                  \n",
      " conv3_block2_3_bn (BatchNormal  (None, 28, 28, 512)  2048       ['conv3_block2_3_conv[0][0]']    \n",
      " ization)                                                                                         \n",
      "                                                                                                  \n",
      " conv3_block2_add (Add)         (None, 28, 28, 512)  0           ['conv3_block1_out[0][0]',       \n",
      "                                                                  'conv3_block2_3_bn[0][0]']      \n",
      "                                                                                                  \n",
      " conv3_block2_out (Activation)  (None, 28, 28, 512)  0           ['conv3_block2_add[0][0]']       \n",
      "                                                                                                  \n",
      " conv3_block3_1_conv (Conv2D)   (None, 28, 28, 128)  65664       ['conv3_block2_out[0][0]']       \n",
      "                                                                                                  \n",
      " conv3_block3_1_bn (BatchNormal  (None, 28, 28, 128)  512        ['conv3_block3_1_conv[0][0]']    \n",
      " ization)                                                                                         \n"
     ]
    },
    {
     "name": "stdout",
     "output_type": "stream",
     "text": [
      "                                                                                                  \n",
      " conv3_block3_1_relu (Activatio  (None, 28, 28, 128)  0          ['conv3_block3_1_bn[0][0]']      \n",
      " n)                                                                                               \n",
      "                                                                                                  \n",
      " conv3_block3_2_conv (Conv2D)   (None, 28, 28, 128)  147584      ['conv3_block3_1_relu[0][0]']    \n",
      "                                                                                                  \n",
      " conv3_block3_2_bn (BatchNormal  (None, 28, 28, 128)  512        ['conv3_block3_2_conv[0][0]']    \n",
      " ization)                                                                                         \n",
      "                                                                                                  \n",
      " conv3_block3_2_relu (Activatio  (None, 28, 28, 128)  0          ['conv3_block3_2_bn[0][0]']      \n",
      " n)                                                                                               \n",
      "                                                                                                  \n",
      " conv3_block3_3_conv (Conv2D)   (None, 28, 28, 512)  66048       ['conv3_block3_2_relu[0][0]']    \n",
      "                                                                                                  \n",
      " conv3_block3_3_bn (BatchNormal  (None, 28, 28, 512)  2048       ['conv3_block3_3_conv[0][0]']    \n",
      " ization)                                                                                         \n",
      "                                                                                                  \n",
      " conv3_block3_add (Add)         (None, 28, 28, 512)  0           ['conv3_block2_out[0][0]',       \n",
      "                                                                  'conv3_block3_3_bn[0][0]']      \n",
      "                                                                                                  \n",
      " conv3_block3_out (Activation)  (None, 28, 28, 512)  0           ['conv3_block3_add[0][0]']       \n",
      "                                                                                                  \n",
      " conv3_block4_1_conv (Conv2D)   (None, 28, 28, 128)  65664       ['conv3_block3_out[0][0]']       \n",
      "                                                                                                  \n",
      " conv3_block4_1_bn (BatchNormal  (None, 28, 28, 128)  512        ['conv3_block4_1_conv[0][0]']    \n",
      " ization)                                                                                         \n",
      "                                                                                                  \n",
      " conv3_block4_1_relu (Activatio  (None, 28, 28, 128)  0          ['conv3_block4_1_bn[0][0]']      \n",
      " n)                                                                                               \n",
      "                                                                                                  \n",
      " conv3_block4_2_conv (Conv2D)   (None, 28, 28, 128)  147584      ['conv3_block4_1_relu[0][0]']    \n",
      "                                                                                                  \n",
      " conv3_block4_2_bn (BatchNormal  (None, 28, 28, 128)  512        ['conv3_block4_2_conv[0][0]']    \n",
      " ization)                                                                                         \n",
      "                                                                                                  \n",
      " conv3_block4_2_relu (Activatio  (None, 28, 28, 128)  0          ['conv3_block4_2_bn[0][0]']      \n",
      " n)                                                                                               \n",
      "                                                                                                  \n",
      " conv3_block4_3_conv (Conv2D)   (None, 28, 28, 512)  66048       ['conv3_block4_2_relu[0][0]']    \n",
      "                                                                                                  \n",
      " conv3_block4_3_bn (BatchNormal  (None, 28, 28, 512)  2048       ['conv3_block4_3_conv[0][0]']    \n",
      " ization)                                                                                         \n",
      "                                                                                                  \n",
      " conv3_block4_add (Add)         (None, 28, 28, 512)  0           ['conv3_block3_out[0][0]',       \n",
      "                                                                  'conv3_block4_3_bn[0][0]']      \n",
      "                                                                                                  \n",
      " conv3_block4_out (Activation)  (None, 28, 28, 512)  0           ['conv3_block4_add[0][0]']       \n",
      "                                                                                                  \n",
      " conv4_block1_1_conv (Conv2D)   (None, 14, 14, 256)  131328      ['conv3_block4_out[0][0]']       \n",
      "                                                                                                  \n",
      " conv4_block1_1_bn (BatchNormal  (None, 14, 14, 256)  1024       ['conv4_block1_1_conv[0][0]']    \n",
      " ization)                                                                                         \n",
      "                                                                                                  \n",
      " conv4_block1_1_relu (Activatio  (None, 14, 14, 256)  0          ['conv4_block1_1_bn[0][0]']      \n",
      " n)                                                                                               \n",
      "                                                                                                  \n",
      " conv4_block1_2_conv (Conv2D)   (None, 14, 14, 256)  590080      ['conv4_block1_1_relu[0][0]']    \n",
      "                                                                                                  \n",
      " conv4_block1_2_bn (BatchNormal  (None, 14, 14, 256)  1024       ['conv4_block1_2_conv[0][0]']    \n",
      " ization)                                                                                         \n",
      "                                                                                                  \n",
      " conv4_block1_2_relu (Activatio  (None, 14, 14, 256)  0          ['conv4_block1_2_bn[0][0]']      \n",
      " n)                                                                                               \n",
      "                                                                                                  \n",
      " conv4_block1_0_conv (Conv2D)   (None, 14, 14, 1024  525312      ['conv3_block4_out[0][0]']       \n",
      "                                )                                                                 \n",
      "                                                                                                  \n",
      " conv4_block1_3_conv (Conv2D)   (None, 14, 14, 1024  263168      ['conv4_block1_2_relu[0][0]']    \n",
      "                                )                                                                 \n",
      "                                                                                                  \n",
      " conv4_block1_0_bn (BatchNormal  (None, 14, 14, 1024  4096       ['conv4_block1_0_conv[0][0]']    \n",
      " ization)                       )                                                                 \n",
      "                                                                                                  \n",
      " conv4_block1_3_bn (BatchNormal  (None, 14, 14, 1024  4096       ['conv4_block1_3_conv[0][0]']    \n",
      " ization)                       )                                                                 \n",
      "                                                                                                  \n",
      " conv4_block1_add (Add)         (None, 14, 14, 1024  0           ['conv4_block1_0_bn[0][0]',      \n",
      "                                )                                 'conv4_block1_3_bn[0][0]']      \n",
      "                                                                                                  \n",
      " conv4_block1_out (Activation)  (None, 14, 14, 1024  0           ['conv4_block1_add[0][0]']       \n",
      "                                )                                                                 \n",
      "                                                                                                  \n",
      " conv4_block2_1_conv (Conv2D)   (None, 14, 14, 256)  262400      ['conv4_block1_out[0][0]']       \n"
     ]
    },
    {
     "name": "stdout",
     "output_type": "stream",
     "text": [
      "                                                                                                  \n",
      " conv4_block2_1_bn (BatchNormal  (None, 14, 14, 256)  1024       ['conv4_block2_1_conv[0][0]']    \n",
      " ization)                                                                                         \n",
      "                                                                                                  \n",
      " conv4_block2_1_relu (Activatio  (None, 14, 14, 256)  0          ['conv4_block2_1_bn[0][0]']      \n",
      " n)                                                                                               \n",
      "                                                                                                  \n",
      " conv4_block2_2_conv (Conv2D)   (None, 14, 14, 256)  590080      ['conv4_block2_1_relu[0][0]']    \n",
      "                                                                                                  \n",
      " conv4_block2_2_bn (BatchNormal  (None, 14, 14, 256)  1024       ['conv4_block2_2_conv[0][0]']    \n",
      " ization)                                                                                         \n",
      "                                                                                                  \n",
      " conv4_block2_2_relu (Activatio  (None, 14, 14, 256)  0          ['conv4_block2_2_bn[0][0]']      \n",
      " n)                                                                                               \n",
      "                                                                                                  \n",
      " conv4_block2_3_conv (Conv2D)   (None, 14, 14, 1024  263168      ['conv4_block2_2_relu[0][0]']    \n",
      "                                )                                                                 \n",
      "                                                                                                  \n",
      " conv4_block2_3_bn (BatchNormal  (None, 14, 14, 1024  4096       ['conv4_block2_3_conv[0][0]']    \n",
      " ization)                       )                                                                 \n",
      "                                                                                                  \n",
      " conv4_block2_add (Add)         (None, 14, 14, 1024  0           ['conv4_block1_out[0][0]',       \n",
      "                                )                                 'conv4_block2_3_bn[0][0]']      \n",
      "                                                                                                  \n",
      " conv4_block2_out (Activation)  (None, 14, 14, 1024  0           ['conv4_block2_add[0][0]']       \n",
      "                                )                                                                 \n",
      "                                                                                                  \n",
      " conv4_block3_1_conv (Conv2D)   (None, 14, 14, 256)  262400      ['conv4_block2_out[0][0]']       \n",
      "                                                                                                  \n",
      " conv4_block3_1_bn (BatchNormal  (None, 14, 14, 256)  1024       ['conv4_block3_1_conv[0][0]']    \n",
      " ization)                                                                                         \n",
      "                                                                                                  \n",
      " conv4_block3_1_relu (Activatio  (None, 14, 14, 256)  0          ['conv4_block3_1_bn[0][0]']      \n",
      " n)                                                                                               \n",
      "                                                                                                  \n",
      " conv4_block3_2_conv (Conv2D)   (None, 14, 14, 256)  590080      ['conv4_block3_1_relu[0][0]']    \n",
      "                                                                                                  \n",
      " conv4_block3_2_bn (BatchNormal  (None, 14, 14, 256)  1024       ['conv4_block3_2_conv[0][0]']    \n",
      " ization)                                                                                         \n",
      "                                                                                                  \n",
      " conv4_block3_2_relu (Activatio  (None, 14, 14, 256)  0          ['conv4_block3_2_bn[0][0]']      \n",
      " n)                                                                                               \n",
      "                                                                                                  \n",
      " conv4_block3_3_conv (Conv2D)   (None, 14, 14, 1024  263168      ['conv4_block3_2_relu[0][0]']    \n",
      "                                )                                                                 \n",
      "                                                                                                  \n",
      " conv4_block3_3_bn (BatchNormal  (None, 14, 14, 1024  4096       ['conv4_block3_3_conv[0][0]']    \n",
      " ization)                       )                                                                 \n",
      "                                                                                                  \n",
      " conv4_block3_add (Add)         (None, 14, 14, 1024  0           ['conv4_block2_out[0][0]',       \n",
      "                                )                                 'conv4_block3_3_bn[0][0]']      \n",
      "                                                                                                  \n",
      " conv4_block3_out (Activation)  (None, 14, 14, 1024  0           ['conv4_block3_add[0][0]']       \n",
      "                                )                                                                 \n",
      "                                                                                                  \n",
      " conv4_block4_1_conv (Conv2D)   (None, 14, 14, 256)  262400      ['conv4_block3_out[0][0]']       \n",
      "                                                                                                  \n",
      " conv4_block4_1_bn (BatchNormal  (None, 14, 14, 256)  1024       ['conv4_block4_1_conv[0][0]']    \n",
      " ization)                                                                                         \n",
      "                                                                                                  \n",
      " conv4_block4_1_relu (Activatio  (None, 14, 14, 256)  0          ['conv4_block4_1_bn[0][0]']      \n",
      " n)                                                                                               \n",
      "                                                                                                  \n",
      " conv4_block4_2_conv (Conv2D)   (None, 14, 14, 256)  590080      ['conv4_block4_1_relu[0][0]']    \n",
      "                                                                                                  \n",
      " conv4_block4_2_bn (BatchNormal  (None, 14, 14, 256)  1024       ['conv4_block4_2_conv[0][0]']    \n",
      " ization)                                                                                         \n",
      "                                                                                                  \n",
      " conv4_block4_2_relu (Activatio  (None, 14, 14, 256)  0          ['conv4_block4_2_bn[0][0]']      \n",
      " n)                                                                                               \n",
      "                                                                                                  \n",
      " conv4_block4_3_conv (Conv2D)   (None, 14, 14, 1024  263168      ['conv4_block4_2_relu[0][0]']    \n",
      "                                )                                                                 \n",
      "                                                                                                  \n",
      " conv4_block4_3_bn (BatchNormal  (None, 14, 14, 1024  4096       ['conv4_block4_3_conv[0][0]']    \n",
      " ization)                       )                                                                 \n",
      "                                                                                                  \n",
      " conv4_block4_add (Add)         (None, 14, 14, 1024  0           ['conv4_block3_out[0][0]',       \n",
      "                                )                                 'conv4_block4_3_bn[0][0]']      \n",
      "                                                                                                  \n",
      " conv4_block4_out (Activation)  (None, 14, 14, 1024  0           ['conv4_block4_add[0][0]']       \n",
      "                                )                                                                 \n",
      "                                                                                                  \n"
     ]
    },
    {
     "name": "stdout",
     "output_type": "stream",
     "text": [
      " conv4_block5_1_conv (Conv2D)   (None, 14, 14, 256)  262400      ['conv4_block4_out[0][0]']       \n",
      "                                                                                                  \n",
      " conv4_block5_1_bn (BatchNormal  (None, 14, 14, 256)  1024       ['conv4_block5_1_conv[0][0]']    \n",
      " ization)                                                                                         \n",
      "                                                                                                  \n",
      " conv4_block5_1_relu (Activatio  (None, 14, 14, 256)  0          ['conv4_block5_1_bn[0][0]']      \n",
      " n)                                                                                               \n",
      "                                                                                                  \n",
      " conv4_block5_2_conv (Conv2D)   (None, 14, 14, 256)  590080      ['conv4_block5_1_relu[0][0]']    \n",
      "                                                                                                  \n",
      " conv4_block5_2_bn (BatchNormal  (None, 14, 14, 256)  1024       ['conv4_block5_2_conv[0][0]']    \n",
      " ization)                                                                                         \n",
      "                                                                                                  \n",
      " conv4_block5_2_relu (Activatio  (None, 14, 14, 256)  0          ['conv4_block5_2_bn[0][0]']      \n",
      " n)                                                                                               \n",
      "                                                                                                  \n",
      " conv4_block5_3_conv (Conv2D)   (None, 14, 14, 1024  263168      ['conv4_block5_2_relu[0][0]']    \n",
      "                                )                                                                 \n",
      "                                                                                                  \n",
      " conv4_block5_3_bn (BatchNormal  (None, 14, 14, 1024  4096       ['conv4_block5_3_conv[0][0]']    \n",
      " ization)                       )                                                                 \n",
      "                                                                                                  \n",
      " conv4_block5_add (Add)         (None, 14, 14, 1024  0           ['conv4_block4_out[0][0]',       \n",
      "                                )                                 'conv4_block5_3_bn[0][0]']      \n",
      "                                                                                                  \n",
      " conv4_block5_out (Activation)  (None, 14, 14, 1024  0           ['conv4_block5_add[0][0]']       \n",
      "                                )                                                                 \n",
      "                                                                                                  \n",
      " conv4_block6_1_conv (Conv2D)   (None, 14, 14, 256)  262400      ['conv4_block5_out[0][0]']       \n",
      "                                                                                                  \n",
      " conv4_block6_1_bn (BatchNormal  (None, 14, 14, 256)  1024       ['conv4_block6_1_conv[0][0]']    \n",
      " ization)                                                                                         \n",
      "                                                                                                  \n",
      " conv4_block6_1_relu (Activatio  (None, 14, 14, 256)  0          ['conv4_block6_1_bn[0][0]']      \n",
      " n)                                                                                               \n",
      "                                                                                                  \n",
      " conv4_block6_2_conv (Conv2D)   (None, 14, 14, 256)  590080      ['conv4_block6_1_relu[0][0]']    \n",
      "                                                                                                  \n",
      " conv4_block6_2_bn (BatchNormal  (None, 14, 14, 256)  1024       ['conv4_block6_2_conv[0][0]']    \n",
      " ization)                                                                                         \n",
      "                                                                                                  \n",
      " conv4_block6_2_relu (Activatio  (None, 14, 14, 256)  0          ['conv4_block6_2_bn[0][0]']      \n",
      " n)                                                                                               \n",
      "                                                                                                  \n",
      " conv4_block6_3_conv (Conv2D)   (None, 14, 14, 1024  263168      ['conv4_block6_2_relu[0][0]']    \n",
      "                                )                                                                 \n",
      "                                                                                                  \n",
      " conv4_block6_3_bn (BatchNormal  (None, 14, 14, 1024  4096       ['conv4_block6_3_conv[0][0]']    \n",
      " ization)                       )                                                                 \n",
      "                                                                                                  \n",
      " conv4_block6_add (Add)         (None, 14, 14, 1024  0           ['conv4_block5_out[0][0]',       \n",
      "                                )                                 'conv4_block6_3_bn[0][0]']      \n",
      "                                                                                                  \n",
      " conv4_block6_out (Activation)  (None, 14, 14, 1024  0           ['conv4_block6_add[0][0]']       \n",
      "                                )                                                                 \n",
      "                                                                                                  \n",
      " conv5_block1_1_conv (Conv2D)   (None, 7, 7, 512)    524800      ['conv4_block6_out[0][0]']       \n",
      "                                                                                                  \n",
      " conv5_block1_1_bn (BatchNormal  (None, 7, 7, 512)   2048        ['conv5_block1_1_conv[0][0]']    \n",
      " ization)                                                                                         \n",
      "                                                                                                  \n",
      " conv5_block1_1_relu (Activatio  (None, 7, 7, 512)   0           ['conv5_block1_1_bn[0][0]']      \n",
      " n)                                                                                               \n",
      "                                                                                                  \n",
      " conv5_block1_2_conv (Conv2D)   (None, 7, 7, 512)    2359808     ['conv5_block1_1_relu[0][0]']    \n",
      "                                                                                                  \n",
      " conv5_block1_2_bn (BatchNormal  (None, 7, 7, 512)   2048        ['conv5_block1_2_conv[0][0]']    \n",
      " ization)                                                                                         \n",
      "                                                                                                  \n",
      " conv5_block1_2_relu (Activatio  (None, 7, 7, 512)   0           ['conv5_block1_2_bn[0][0]']      \n",
      " n)                                                                                               \n",
      "                                                                                                  \n",
      " conv5_block1_0_conv (Conv2D)   (None, 7, 7, 2048)   2099200     ['conv4_block6_out[0][0]']       \n",
      "                                                                                                  \n",
      " conv5_block1_3_conv (Conv2D)   (None, 7, 7, 2048)   1050624     ['conv5_block1_2_relu[0][0]']    \n",
      "                                                                                                  \n",
      " conv5_block1_0_bn (BatchNormal  (None, 7, 7, 2048)  8192        ['conv5_block1_0_conv[0][0]']    \n",
      " ization)                                                                                         \n",
      "                                                                                                  \n",
      " conv5_block1_3_bn (BatchNormal  (None, 7, 7, 2048)  8192        ['conv5_block1_3_conv[0][0]']    \n",
      " ization)                                                                                         \n",
      "                                                                                                  \n",
      " conv5_block1_add (Add)         (None, 7, 7, 2048)   0           ['conv5_block1_0_bn[0][0]',      \n"
     ]
    },
    {
     "name": "stdout",
     "output_type": "stream",
     "text": [
      "                                                                  'conv5_block1_3_bn[0][0]']      \n",
      "                                                                                                  \n",
      " conv5_block1_out (Activation)  (None, 7, 7, 2048)   0           ['conv5_block1_add[0][0]']       \n",
      "                                                                                                  \n",
      " conv5_block2_1_conv (Conv2D)   (None, 7, 7, 512)    1049088     ['conv5_block1_out[0][0]']       \n",
      "                                                                                                  \n",
      " conv5_block2_1_bn (BatchNormal  (None, 7, 7, 512)   2048        ['conv5_block2_1_conv[0][0]']    \n",
      " ization)                                                                                         \n",
      "                                                                                                  \n",
      " conv5_block2_1_relu (Activatio  (None, 7, 7, 512)   0           ['conv5_block2_1_bn[0][0]']      \n",
      " n)                                                                                               \n",
      "                                                                                                  \n",
      " conv5_block2_2_conv (Conv2D)   (None, 7, 7, 512)    2359808     ['conv5_block2_1_relu[0][0]']    \n",
      "                                                                                                  \n",
      " conv5_block2_2_bn (BatchNormal  (None, 7, 7, 512)   2048        ['conv5_block2_2_conv[0][0]']    \n",
      " ization)                                                                                         \n",
      "                                                                                                  \n",
      " conv5_block2_2_relu (Activatio  (None, 7, 7, 512)   0           ['conv5_block2_2_bn[0][0]']      \n",
      " n)                                                                                               \n",
      "                                                                                                  \n",
      " conv5_block2_3_conv (Conv2D)   (None, 7, 7, 2048)   1050624     ['conv5_block2_2_relu[0][0]']    \n",
      "                                                                                                  \n",
      " conv5_block2_3_bn (BatchNormal  (None, 7, 7, 2048)  8192        ['conv5_block2_3_conv[0][0]']    \n",
      " ization)                                                                                         \n",
      "                                                                                                  \n",
      " conv5_block2_add (Add)         (None, 7, 7, 2048)   0           ['conv5_block1_out[0][0]',       \n",
      "                                                                  'conv5_block2_3_bn[0][0]']      \n",
      "                                                                                                  \n",
      " conv5_block2_out (Activation)  (None, 7, 7, 2048)   0           ['conv5_block2_add[0][0]']       \n",
      "                                                                                                  \n",
      " conv5_block3_1_conv (Conv2D)   (None, 7, 7, 512)    1049088     ['conv5_block2_out[0][0]']       \n",
      "                                                                                                  \n",
      " conv5_block3_1_bn (BatchNormal  (None, 7, 7, 512)   2048        ['conv5_block3_1_conv[0][0]']    \n",
      " ization)                                                                                         \n",
      "                                                                                                  \n",
      " conv5_block3_1_relu (Activatio  (None, 7, 7, 512)   0           ['conv5_block3_1_bn[0][0]']      \n",
      " n)                                                                                               \n",
      "                                                                                                  \n",
      " conv5_block3_2_conv (Conv2D)   (None, 7, 7, 512)    2359808     ['conv5_block3_1_relu[0][0]']    \n",
      "                                                                                                  \n",
      " conv5_block3_2_bn (BatchNormal  (None, 7, 7, 512)   2048        ['conv5_block3_2_conv[0][0]']    \n",
      " ization)                                                                                         \n",
      "                                                                                                  \n",
      " conv5_block3_2_relu (Activatio  (None, 7, 7, 512)   0           ['conv5_block3_2_bn[0][0]']      \n",
      " n)                                                                                               \n",
      "                                                                                                  \n",
      " conv5_block3_3_conv (Conv2D)   (None, 7, 7, 2048)   1050624     ['conv5_block3_2_relu[0][0]']    \n",
      "                                                                                                  \n",
      " conv5_block3_3_bn (BatchNormal  (None, 7, 7, 2048)  8192        ['conv5_block3_3_conv[0][0]']    \n",
      " ization)                                                                                         \n",
      "                                                                                                  \n",
      " conv5_block3_add (Add)         (None, 7, 7, 2048)   0           ['conv5_block2_out[0][0]',       \n",
      "                                                                  'conv5_block3_3_bn[0][0]']      \n",
      "                                                                                                  \n",
      " conv5_block3_out (Activation)  (None, 7, 7, 2048)   0           ['conv5_block3_add[0][0]']       \n",
      "                                                                                                  \n",
      " flatten_1 (Flatten)            (None, 100352)       0           ['conv5_block3_out[0][0]']       \n",
      "                                                                                                  \n",
      " dense_1 (Dense)                (None, 4)            401412      ['flatten_1[0][0]']              \n",
      "                                                                                                  \n",
      "==================================================================================================\n",
      "Total params: 23,989,124\n",
      "Trainable params: 401,412\n",
      "Non-trainable params: 23,587,712\n",
      "__________________________________________________________________________________________________\n"
     ]
    }
   ],
   "source": [
    "model.summary()"
   ]
  },
  {
   "cell_type": "code",
   "execution_count": 50,
   "id": "fd95b3ef",
   "metadata": {},
   "outputs": [],
   "source": [
    "model.compile(loss='categorical_crossentropy',optimizer='adam',metrics=['accuracy'])"
   ]
  },
  {
   "cell_type": "code",
   "execution_count": 57,
   "id": "a3209a94",
   "metadata": {},
   "outputs": [
    {
     "name": "stderr",
     "output_type": "stream",
     "text": [
      "C:\\Users\\svneh\\AppData\\Local\\Temp\\ipykernel_3016\\1078852044.py:1: UserWarning: `Model.fit_generator` is deprecated and will be removed in a future version. Please use `Model.fit`, which supports generators.\n",
      "  model.fit_generator(train,validation_data=test,epochs=20,steps_per_epoch=len(train),\n"
     ]
    },
    {
     "name": "stdout",
     "output_type": "stream",
     "text": [
      "Epoch 1/20\n",
      "5/5 [==============================] - 8s 2s/step - loss: 0.9311 - accuracy: 0.6346 - val_loss: 1.9723 - val_accuracy: 0.3878\n",
      "Epoch 2/20\n",
      "5/5 [==============================] - 7s 2s/step - loss: 0.8214 - accuracy: 0.6827 - val_loss: 1.6277 - val_accuracy: 0.4694\n",
      "Epoch 3/20\n",
      "5/5 [==============================] - 7s 2s/step - loss: 0.6918 - accuracy: 0.7404 - val_loss: 1.5159 - val_accuracy: 0.4694\n",
      "Epoch 4/20\n",
      "5/5 [==============================] - 7s 2s/step - loss: 0.9358 - accuracy: 0.6058 - val_loss: 1.7560 - val_accuracy: 0.4286\n",
      "Epoch 5/20\n",
      "5/5 [==============================] - 7s 2s/step - loss: 0.6058 - accuracy: 0.8077 - val_loss: 1.5812 - val_accuracy: 0.4694\n",
      "Epoch 6/20\n",
      "5/5 [==============================] - 7s 2s/step - loss: 0.6677 - accuracy: 0.7308 - val_loss: 1.4702 - val_accuracy: 0.5306\n",
      "Epoch 7/20\n",
      "5/5 [==============================] - 7s 2s/step - loss: 0.7078 - accuracy: 0.7019 - val_loss: 1.8070 - val_accuracy: 0.3265\n",
      "Epoch 8/20\n",
      "5/5 [==============================] - 7s 1s/step - loss: 0.7936 - accuracy: 0.6635 - val_loss: 1.3916 - val_accuracy: 0.4286\n",
      "Epoch 9/20\n",
      "5/5 [==============================] - 7s 1s/step - loss: 0.7003 - accuracy: 0.6635 - val_loss: 1.7944 - val_accuracy: 0.5102\n",
      "Epoch 10/20\n",
      "5/5 [==============================] - 7s 1s/step - loss: 0.7159 - accuracy: 0.6923 - val_loss: 1.3591 - val_accuracy: 0.5102\n",
      "Epoch 11/20\n",
      "5/5 [==============================] - 7s 1s/step - loss: 0.5696 - accuracy: 0.7692 - val_loss: 1.5473 - val_accuracy: 0.5102\n",
      "Epoch 12/20\n",
      "5/5 [==============================] - 7s 1s/step - loss: 0.6478 - accuracy: 0.7115 - val_loss: 1.7936 - val_accuracy: 0.4286\n",
      "Epoch 13/20\n",
      "5/5 [==============================] - 7s 1s/step - loss: 0.7736 - accuracy: 0.7115 - val_loss: 1.8235 - val_accuracy: 0.4286\n",
      "Epoch 14/20\n",
      "5/5 [==============================] - 7s 1s/step - loss: 0.7170 - accuracy: 0.7308 - val_loss: 1.9172 - val_accuracy: 0.4694\n",
      "Epoch 15/20\n",
      "5/5 [==============================] - 7s 1s/step - loss: 0.6625 - accuracy: 0.7404 - val_loss: 1.7859 - val_accuracy: 0.4286\n",
      "Epoch 16/20\n",
      "5/5 [==============================] - 7s 1s/step - loss: 0.8617 - accuracy: 0.6538 - val_loss: 3.1476 - val_accuracy: 0.3469\n",
      "Epoch 17/20\n",
      "5/5 [==============================] - 7s 1s/step - loss: 1.0803 - accuracy: 0.5673 - val_loss: 2.0710 - val_accuracy: 0.5102\n",
      "Epoch 18/20\n",
      "5/5 [==============================] - 13s 3s/step - loss: 1.0236 - accuracy: 0.6635 - val_loss: 1.5901 - val_accuracy: 0.4286\n",
      "Epoch 19/20\n",
      "5/5 [==============================] - 8s 2s/step - loss: 1.0123 - accuracy: 0.6442 - val_loss: 2.4617 - val_accuracy: 0.4286\n",
      "Epoch 20/20\n",
      "5/5 [==============================] - 7s 2s/step - loss: 0.8979 - accuracy: 0.7115 - val_loss: 2.1681 - val_accuracy: 0.4082\n"
     ]
    },
    {
     "data": {
      "text/plain": [
       "<keras.callbacks.History at 0x125063f9270>"
      ]
     },
     "execution_count": 57,
     "metadata": {},
     "output_type": "execute_result"
    }
   ],
   "source": [
    "model.fit_generator(train,validation_data=test,epochs=20,steps_per_epoch=len(train),\n",
    "                    validation_steps=len(test))"
   ]
  },
  {
   "cell_type": "code",
   "execution_count": 52,
   "id": "f19bb9c7",
   "metadata": {},
   "outputs": [
    {
     "name": "stdout",
     "output_type": "stream",
     "text": [
      "['badminton', 'basketball', 'cricket', 'hockey']\n"
     ]
    }
   ],
   "source": [
    "output = ['badminton','basketball','cricket','hockey']\n",
    "print(output)"
   ]
  },
  {
   "cell_type": "code",
   "execution_count": 53,
   "id": "823172ba",
   "metadata": {},
   "outputs": [
    {
     "name": "stdout",
     "output_type": "stream",
     "text": [
      "1/1 [==============================] - 2s 2s/step\n",
      "1\n",
      "basketball\n"
     ]
    }
   ],
   "source": [
    "img1 = image.load_img(\"C:/Users/svneh/Downloads/basketball.jpg\",target_size=(224,224))\n",
    "img1 = image.img_to_array(img1)\n",
    "img1 = np.expand_dims(img1,axis=0)\n",
    "pred = np.argmax(model.predict(img1))\n",
    "print(pred)\n",
    "print(output[pred])"
   ]
  },
  {
   "cell_type": "code",
   "execution_count": 54,
   "id": "398ce155",
   "metadata": {},
   "outputs": [
    {
     "name": "stdout",
     "output_type": "stream",
     "text": [
      "1/1 [==============================] - 0s 164ms/step\n",
      "1\n",
      "basketball\n"
     ]
    }
   ],
   "source": [
    "img2 = image.load_img(\"C:/Users/svneh/Downloads/cricket.jpg\",target_size=(224,224))\n",
    "img2 = image.img_to_array(img2)\n",
    "img2 = np.expand_dims(img2,axis=0)\n",
    "pred = np.argmax(model.predict(img2))\n",
    "print(pred)\n",
    "print(output[pred])"
   ]
  },
  {
   "cell_type": "code",
   "execution_count": 55,
   "id": "24be0c87",
   "metadata": {},
   "outputs": [
    {
     "name": "stdout",
     "output_type": "stream",
     "text": [
      "1/1 [==============================] - 0s 182ms/step\n",
      "1\n",
      "basketball\n"
     ]
    }
   ],
   "source": [
    "img4 = image.load_img(\"C:/Users/svneh/Downloads/badminton.jpg\",target_size=(224,224))\n",
    "img4 = image.img_to_array(img4)\n",
    "img4 = np.expand_dims(img4,axis=0)\n",
    "pred = np.argmax(model.predict(img4))\n",
    "print(pred)\n",
    "print(output[pred])"
   ]
  },
  {
   "cell_type": "code",
   "execution_count": 56,
   "id": "c1968d7d",
   "metadata": {},
   "outputs": [
    {
     "name": "stdout",
     "output_type": "stream",
     "text": [
      "1/1 [==============================] - 0s 181ms/step\n",
      "0\n",
      "badminton\n"
     ]
    }
   ],
   "source": [
    "img3 = image.load_img(\"C:/Users/svneh/Downloads/hockey.jpg\",target_size=(224,224))\n",
    "img3 = image.img_to_array(img3)\n",
    "img3 = np.expand_dims(img3,axis=0)\n",
    "pred = np.argmax(model.predict(img3))\n",
    "print(pred)\n",
    "print(output[pred])"
   ]
  }
 ],
 "metadata": {
  "kernelspec": {
   "display_name": "Python 3 (ipykernel)",
   "language": "python",
   "name": "python3"
  },
  "language_info": {
   "codemirror_mode": {
    "name": "ipython",
    "version": 3
   },
   "file_extension": ".py",
   "mimetype": "text/x-python",
   "name": "python",
   "nbconvert_exporter": "python",
   "pygments_lexer": "ipython3",
   "version": "3.10.7"
  }
 },
 "nbformat": 4,
 "nbformat_minor": 5
}
